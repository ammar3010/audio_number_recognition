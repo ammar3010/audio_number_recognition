{
 "cells": [
  {
   "cell_type": "code",
   "execution_count": 1,
   "metadata": {},
   "outputs": [
    {
     "name": "stderr",
     "output_type": "stream",
     "text": [
      "2023-07-03 16:17:33.185711: I tensorflow/tsl/cuda/cudart_stub.cc:28] Could not find cuda drivers on your machine, GPU will not be used.\n",
      "2023-07-03 16:17:33.330955: I tensorflow/tsl/cuda/cudart_stub.cc:28] Could not find cuda drivers on your machine, GPU will not be used.\n",
      "2023-07-03 16:17:35.448345: W tensorflow/compiler/tf2tensorrt/utils/py_utils.cc:38] TF-TRT Warning: Could not find TensorRT\n"
     ]
    }
   ],
   "source": [
    "import numpy as np\n",
    "import tensorflow as tf\n",
    "import pandas as pd\n",
    "from tensorflow.keras import layers\n",
    "from tensorflow.keras import models\n",
    "import cv2\n",
    "import librosa\n",
    "import matplotlib.pyplot as plt"
   ]
  },
  {
   "cell_type": "code",
   "execution_count": 2,
   "metadata": {},
   "outputs": [],
   "source": [
    "def route_to_numpy_array(image_path):\n",
    "    image = cv2.imread(image_path)\n",
    "    gray_image = cv2.cvtColor(image, cv2.COLOR_BGR2GRAY)\n",
    "    resized_image = cv2.resize(gray_image, (196, 256))\n",
    "    # divide by 255 to normalize the data\n",
    "    resized_image = resized_image.astype('float32') / 255\n",
    "    return resized_image"
   ]
  },
  {
   "cell_type": "code",
   "execution_count": 3,
   "metadata": {},
   "outputs": [],
   "source": [
    "model = tf.keras.models.load_model('models/my_model.h5')"
   ]
  },
  {
   "cell_type": "code",
   "execution_count": 15,
   "metadata": {},
   "outputs": [],
   "source": [
    "filename = 'file2.wav'\n",
    "img_path = 'assets/inference_audios/'"
   ]
  },
  {
   "cell_type": "code",
   "execution_count": 25,
   "metadata": {},
   "outputs": [],
   "source": [
    "df = pd.DataFrame(columns=[\"filename\",\"image\"])\n",
    "df.at[0,\"filename\"] = filename"
   ]
  },
  {
   "cell_type": "code",
   "execution_count": 26,
   "metadata": {},
   "outputs": [
    {
     "data": {
      "text/html": [
       "<div>\n",
       "<style scoped>\n",
       "    .dataframe tbody tr th:only-of-type {\n",
       "        vertical-align: middle;\n",
       "    }\n",
       "\n",
       "    .dataframe tbody tr th {\n",
       "        vertical-align: top;\n",
       "    }\n",
       "\n",
       "    .dataframe thead th {\n",
       "        text-align: right;\n",
       "    }\n",
       "</style>\n",
       "<table border=\"1\" class=\"dataframe\">\n",
       "  <thead>\n",
       "    <tr style=\"text-align: right;\">\n",
       "      <th></th>\n",
       "      <th>filename</th>\n",
       "      <th>image</th>\n",
       "    </tr>\n",
       "  </thead>\n",
       "  <tbody>\n",
       "    <tr>\n",
       "      <th>0</th>\n",
       "      <td>file2.wav</td>\n",
       "      <td>NaN</td>\n",
       "    </tr>\n",
       "  </tbody>\n",
       "</table>\n",
       "</div>"
      ],
      "text/plain": [
       "    filename image\n",
       "0  file2.wav   NaN"
      ]
     },
     "execution_count": 26,
     "metadata": {},
     "output_type": "execute_result"
    }
   ],
   "source": [
    "df"
   ]
  },
  {
   "cell_type": "code",
   "execution_count": 29,
   "metadata": {},
   "outputs": [
    {
     "name": "stdout",
     "output_type": "stream",
     "text": [
      "assets/inference_audios//file2.wav\n"
     ]
    }
   ],
   "source": [
    "plt.figure(figsize=(3,5))\n",
    "path = img_path + '/' + df[\"filename\"][0]\n",
    "print(path)\n",
    "audio, sample_rate = librosa.load(path, sr=None, mono=False)\n",
    "sgram = librosa.stft(audio, n_fft=1024, hop_length=None)\n",
    "simple_sgram, _ = librosa.magphase(sgram)\n",
    "sgram_mel = librosa.feature.melspectrogram(S=simple_sgram, sr=sample_rate, n_mels=64)\n",
    "sgram_amp_log = librosa.amplitude_to_db(sgram_mel, ref=np.min)\n",
    "filename = 'assets/inference_audios/' + df['filename'][0].split('.')[0] + '.jpg'\n",
    "librosa.display.specshow(sgram_amp_log, sr=sample_rate/2, x_axis=\"time\",y_axis=\"mel\")\n",
    "plt.axis('off')\n",
    "plt.savefig(filename, bbox_inches='tight', pad_inches=0)\n",
    "plt.close()"
   ]
  },
  {
   "cell_type": "code",
   "execution_count": 31,
   "metadata": {},
   "outputs": [
    {
     "data": {
      "text/html": [
       "<div>\n",
       "<style scoped>\n",
       "    .dataframe tbody tr th:only-of-type {\n",
       "        vertical-align: middle;\n",
       "    }\n",
       "\n",
       "    .dataframe tbody tr th {\n",
       "        vertical-align: top;\n",
       "    }\n",
       "\n",
       "    .dataframe thead th {\n",
       "        text-align: right;\n",
       "    }\n",
       "</style>\n",
       "<table border=\"1\" class=\"dataframe\">\n",
       "  <thead>\n",
       "    <tr style=\"text-align: right;\">\n",
       "      <th></th>\n",
       "      <th>filename</th>\n",
       "      <th>image</th>\n",
       "    </tr>\n",
       "  </thead>\n",
       "  <tbody>\n",
       "    <tr>\n",
       "      <th>0</th>\n",
       "      <td>file2.wav</td>\n",
       "      <td>NaN</td>\n",
       "    </tr>\n",
       "  </tbody>\n",
       "</table>\n",
       "</div>"
      ],
      "text/plain": [
       "    filename image\n",
       "0  file2.wav   NaN"
      ]
     },
     "execution_count": 31,
     "metadata": {},
     "output_type": "execute_result"
    }
   ],
   "source": [
    "df"
   ]
  },
  {
   "cell_type": "code",
   "execution_count": 50,
   "metadata": {},
   "outputs": [
    {
     "data": {
      "text/plain": [
       "array([0.        , 0.        , 0.        , 0.        , 0.        ,\n",
       "       0.        , 0.        , 0.        , 0.        , 0.        ,\n",
       "       0.        , 0.        , 0.        , 0.        , 0.        ,\n",
       "       0.        , 0.        , 0.        , 0.        , 0.        ,\n",
       "       0.        , 0.        , 0.        , 0.        , 0.        ,\n",
       "       0.        , 0.        , 0.        , 0.        , 0.        ,\n",
       "       0.        , 0.        , 0.        , 0.        , 0.        ,\n",
       "       0.        , 0.        , 0.        , 0.        , 0.        ,\n",
       "       0.        , 0.        , 0.        , 0.        , 0.        ,\n",
       "       0.        , 0.        , 0.        , 0.        , 0.        ,\n",
       "       0.        , 0.        , 0.        , 0.        , 0.01176471,\n",
       "       0.01960784, 0.07058824, 0.05882353, 0.08235294, 0.08627451,\n",
       "       0.07843138, 0.03529412, 0.03921569, 0.01960784, 0.00784314,\n",
       "       0.00392157, 0.00784314, 0.00392157, 0.00784314, 0.00784314,\n",
       "       0.00784314, 0.00784314, 0.00392157, 0.01568628, 0.01568628,\n",
       "       0.00392157, 0.01568628, 0.01176471, 0.00784314, 0.07450981,\n",
       "       0.10980392, 0.09803922, 0.17254902, 0.16078432, 0.16862746,\n",
       "       0.14117648, 0.13333334, 0.12156863, 0.01176471, 0.01176471,\n",
       "       0.00784314, 0.00784314, 0.01176471, 0.14901961, 0.14901961,\n",
       "       0.2       , 0.2509804 , 0.2509804 , 0.27058825, 0.2627451 ,\n",
       "       0.2509804 , 0.22352941, 0.23137255, 0.23137255, 0.14901961,\n",
       "       0.14901961, 0.10588235, 0.06666667, 0.05098039, 0.04705882,\n",
       "       0.03921569, 0.03529412, 0.02745098, 0.02745098, 0.02745098,\n",
       "       0.03529412, 0.03529412, 0.02745098, 0.03137255, 0.03137255,\n",
       "       0.03529412, 0.03529412, 0.04705882, 0.0627451 , 0.05882353,\n",
       "       0.09803922, 0.10980392, 0.09803922, 0.10196079, 0.08627451,\n",
       "       0.07058824, 0.0627451 , 0.04313726, 0.01960784, 0.01568628,\n",
       "       0.00784314, 0.00784314, 0.00392157, 0.00392157, 0.00392157,\n",
       "       0.00392157, 0.00392157, 0.00392157, 0.00392157, 0.00392157,\n",
       "       0.00392157, 0.00392157, 0.00392157, 0.00784314, 0.01960784,\n",
       "       0.01568628, 0.01568628, 0.01960784, 0.01176471, 0.00784314,\n",
       "       0.00784314, 0.00392157, 0.        , 0.        , 0.        ,\n",
       "       0.00392157, 0.00392157, 0.        , 0.        , 0.        ,\n",
       "       0.00392157, 0.00392157, 0.00392157, 0.00392157, 0.00392157,\n",
       "       0.00392157, 0.00392157, 0.00392157, 0.        , 0.        ,\n",
       "       0.        , 0.        , 0.        , 0.        , 0.        ,\n",
       "       0.        , 0.        , 0.        , 0.        , 0.        ,\n",
       "       0.00392157, 0.00392157, 0.00392157, 0.00392157, 0.00392157,\n",
       "       0.00392157, 0.00392157, 0.00392157, 0.00392157, 0.00392157,\n",
       "       0.00392157], dtype=float32)"
      ]
     },
     "execution_count": 50,
     "metadata": {},
     "output_type": "execute_result"
    }
   ],
   "source": [
    "img[2]"
   ]
  },
  {
   "cell_type": "code",
   "execution_count": 53,
   "metadata": {},
   "outputs": [
    {
     "data": {
      "text/plain": [
       "array([array([[0.        , 0.        , 0.        , ..., 0.00392157, 0.00392157,\n",
       "               0.        ],\n",
       "              [0.        , 0.        , 0.        , ..., 0.00392157, 0.00392157,\n",
       "               0.00392157],\n",
       "              [0.        , 0.        , 0.        , ..., 0.00392157, 0.00392157,\n",
       "               0.00392157],\n",
       "              ...,\n",
       "              [0.        , 0.        , 0.        , ..., 0.21176471, 0.20784314,\n",
       "               0.19607843],\n",
       "              [0.        , 0.        , 0.        , ..., 0.22352941, 0.21960784,\n",
       "               0.20392157],\n",
       "              [0.        , 0.        , 0.        , ..., 0.22352941, 0.20784314,\n",
       "               0.20392157]], dtype=float32)                                    ],\n",
       "      dtype=object)"
      ]
     },
     "execution_count": 53,
     "metadata": {},
     "output_type": "execute_result"
    }
   ],
   "source": [
    "df[\"image\"].values"
   ]
  },
  {
   "cell_type": "code",
   "execution_count": 55,
   "metadata": {},
   "outputs": [
    {
     "name": "stdout",
     "output_type": "stream",
     "text": [
      "1\n"
     ]
    }
   ],
   "source": [
    "df.at[0,\"image\"] = route_to_numpy_array(filename)\n",
    "h = df[\"image\"].values\n",
    "h: np.ndarray = np.stack(h)\n",
    "print(len(h))\n",
    "h = h.reshape((len(h), 196, 256, 1))\n",
    "transformed = h\n",
    "# prediction = model.predict(np.expand_dims(img, axis=0))"
   ]
  },
  {
   "cell_type": "code",
   "execution_count": 57,
   "metadata": {},
   "outputs": [
    {
     "name": "stdout",
     "output_type": "stream",
     "text": [
      "1/1 [==============================] - 0s 436ms/step\n",
      "[[1.8385150e-03 1.2489394e-03 7.6116592e-01 2.3354733e-01 1.3502812e-05\n",
      "  2.3053777e-04 2.1987519e-06 1.0796514e-03 1.5736903e-05 8.5761928e-04]]\n"
     ]
    }
   ],
   "source": [
    "prediction = model.predict(transformed)\n",
    "print(prediction)"
   ]
  },
  {
   "cell_type": "code",
   "execution_count": 71,
   "metadata": {},
   "outputs": [
    {
     "name": "stdout",
     "output_type": "stream",
     "text": [
      "9\n"
     ]
    }
   ],
   "source": [
    "preds = prediction[0].tolist()\n",
    "max = 0\n",
    "index = 0\n",
    "for i in range(len(preds)):\n",
    "    if preds[i] > max:\n",
    "        max = preds[i]\n",
    "        index = i\n",
    "        \n",
    "print(i)"
   ]
  }
 ],
 "metadata": {
  "kernelspec": {
   "display_name": "voice_rec",
   "language": "python",
   "name": "python3"
  },
  "language_info": {
   "codemirror_mode": {
    "name": "ipython",
    "version": 3
   },
   "file_extension": ".py",
   "mimetype": "text/x-python",
   "name": "python",
   "nbconvert_exporter": "python",
   "pygments_lexer": "ipython3",
   "version": "3.9.16"
  },
  "orig_nbformat": 4
 },
 "nbformat": 4,
 "nbformat_minor": 2
}
